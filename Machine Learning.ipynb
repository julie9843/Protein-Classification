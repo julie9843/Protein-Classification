{
 "cells": [
  {
   "cell_type": "code",
   "execution_count": 1,
   "metadata": {},
   "outputs": [],
   "source": [
    "import pandas as pd \n",
    "import numpy as np\n",
    "from sklearn.model_selection import train_test_split\n",
    "from sklearn.feature_extraction.text import CountVectorizer\n",
    "from sklearn.metrics import confusion_matrix\n",
    "from sklearn.metrics import classification_report, accuracy_score"
   ]
  },
  {
   "cell_type": "code",
   "execution_count": 2,
   "metadata": {},
   "outputs": [],
   "source": [
    "df = pd.read_csv('protein_df.csv')"
   ]
  },
  {
   "cell_type": "code",
   "execution_count": 3,
   "metadata": {},
   "outputs": [
    {
     "data": {
      "text/html": [
       "<div>\n",
       "<style scoped>\n",
       "    .dataframe tbody tr th:only-of-type {\n",
       "        vertical-align: middle;\n",
       "    }\n",
       "\n",
       "    .dataframe tbody tr th {\n",
       "        vertical-align: top;\n",
       "    }\n",
       "\n",
       "    .dataframe thead th {\n",
       "        text-align: right;\n",
       "    }\n",
       "</style>\n",
       "<table border=\"1\" class=\"dataframe\">\n",
       "  <thead>\n",
       "    <tr style=\"text-align: right;\">\n",
       "      <th></th>\n",
       "      <th>classification</th>\n",
       "      <th>sequence</th>\n",
       "    </tr>\n",
       "  </thead>\n",
       "  <tbody>\n",
       "    <tr>\n",
       "      <th>0</th>\n",
       "      <td>TRANSFERASE/TRANSFERASE INHIBITOR</td>\n",
       "      <td>PPYTVVYFPVRGRCAALRMLLADQGQSWKEEVVTVETWQEGSLKAS...</td>\n",
       "    </tr>\n",
       "    <tr>\n",
       "      <th>1</th>\n",
       "      <td>TRANSFERASE/TRANSFERASE INHIBITOR</td>\n",
       "      <td>PPYTVVYFPVRGRCAALRMLLADQGQSWKEEVVTVETWQEGSLKAS...</td>\n",
       "    </tr>\n",
       "    <tr>\n",
       "      <th>2</th>\n",
       "      <td>HYDROLASE</td>\n",
       "      <td>TYTTRQIGAKNTLEYKVYIEKDGKPVSAFHDIPLYADKENNIFNMV...</td>\n",
       "    </tr>\n",
       "    <tr>\n",
       "      <th>3</th>\n",
       "      <td>HYDROLASE</td>\n",
       "      <td>TYTTRQIGAKNTLEYKVYIEKDGKPVSAFHDIPLYADKENNIFNMV...</td>\n",
       "    </tr>\n",
       "    <tr>\n",
       "      <th>4</th>\n",
       "      <td>LIGASE</td>\n",
       "      <td>MKTAYIAKQRQISFVKSHFSRQLEERLGLIEVQAPILSRVGDGTQD...</td>\n",
       "    </tr>\n",
       "  </tbody>\n",
       "</table>\n",
       "</div>"
      ],
      "text/plain": [
       "                      classification  \\\n",
       "0  TRANSFERASE/TRANSFERASE INHIBITOR   \n",
       "1  TRANSFERASE/TRANSFERASE INHIBITOR   \n",
       "2                          HYDROLASE   \n",
       "3                          HYDROLASE   \n",
       "4                             LIGASE   \n",
       "\n",
       "                                            sequence  \n",
       "0  PPYTVVYFPVRGRCAALRMLLADQGQSWKEEVVTVETWQEGSLKAS...  \n",
       "1  PPYTVVYFPVRGRCAALRMLLADQGQSWKEEVVTVETWQEGSLKAS...  \n",
       "2  TYTTRQIGAKNTLEYKVYIEKDGKPVSAFHDIPLYADKENNIFNMV...  \n",
       "3  TYTTRQIGAKNTLEYKVYIEKDGKPVSAFHDIPLYADKENNIFNMV...  \n",
       "4  MKTAYIAKQRQISFVKSHFSRQLEERLGLIEVQAPILSRVGDGTQD...  "
      ]
     },
     "execution_count": 3,
     "metadata": {},
     "output_type": "execute_result"
    }
   ],
   "source": [
    "df.head()"
   ]
  },
  {
   "cell_type": "code",
   "execution_count": 4,
   "metadata": {},
   "outputs": [],
   "source": [
    "counts = df['classification'].value_counts()\n",
    "types = np.asarray(counts[(counts > 1000)].index)\n",
    "data = df[df.classification.isin(types)]"
   ]
  },
  {
   "cell_type": "code",
   "execution_count": 5,
   "metadata": {},
   "outputs": [
    {
     "data": {
      "text/plain": [
       "array(['HYDROLASE', 'TRANSFERASE', 'OXIDOREDUCTASE', 'IMMUNE SYSTEM',\n",
       "       'LYASE', 'HYDROLASE/HYDROLASE INHIBITOR', 'TRANSCRIPTION',\n",
       "       'VIRAL PROTEIN', 'TRANSPORT PROTEIN', 'VIRUS', 'SIGNALING PROTEIN',\n",
       "       'ISOMERASE', 'LIGASE', 'MEMBRANE PROTEIN', 'PROTEIN BINDING',\n",
       "       'STRUCTURAL PROTEIN', 'CHAPERONE',\n",
       "       'STRUCTURAL GENOMICS, UNKNOWN FUNCTION', 'SUGAR BINDING PROTEIN',\n",
       "       'DNA BINDING PROTEIN', 'PHOTOSYNTHESIS', 'ELECTRON TRANSPORT',\n",
       "       'TRANSFERASE/TRANSFERASE INHIBITOR', 'METAL BINDING PROTEIN',\n",
       "       'CELL ADHESION', 'UNKNOWN FUNCTION', 'PROTEIN TRANSPORT', 'TOXIN',\n",
       "       'CELL CYCLE', 'RNA BINDING PROTEIN', 'DE NOVO PROTEIN', 'HORMONE',\n",
       "       'GENE REGULATION', 'OXIDOREDUCTASE/OXIDOREDUCTASE INHIBITOR',\n",
       "       'APOPTOSIS', 'MOTOR PROTEIN', 'PROTEIN FIBRIL', 'METAL TRANSPORT',\n",
       "       'VIRAL PROTEIN/IMMUNE SYSTEM', 'CONTRACTILE PROTEIN',\n",
       "       'FLUORESCENT PROTEIN', 'TRANSLATION', 'BIOSYNTHETIC PROTEIN'],\n",
       "      dtype=object)"
      ]
     },
     "execution_count": 5,
     "metadata": {},
     "output_type": "execute_result"
    }
   ],
   "source": [
    "types"
   ]
  },
  {
   "cell_type": "code",
   "execution_count": 6,
   "metadata": {},
   "outputs": [
    {
     "data": {
      "text/plain": [
       "classification    0\n",
       "sequence          3\n",
       "dtype: int64"
      ]
     },
     "execution_count": 6,
     "metadata": {},
     "output_type": "execute_result"
    }
   ],
   "source": [
    "df.isnull().sum()"
   ]
  },
  {
   "cell_type": "code",
   "execution_count": 7,
   "metadata": {},
   "outputs": [],
   "source": [
    "df = df.dropna()"
   ]
  },
  {
   "cell_type": "code",
   "execution_count": 8,
   "metadata": {},
   "outputs": [],
   "source": [
    "X = df.sequence\n",
    "y = df.classification\n",
    "# Split Data\n",
    "X_train, X_test,y_train,y_test = train_test_split(X, y, test_size = 0.25, random_state = 1)"
   ]
  },
  {
   "cell_type": "code",
   "execution_count": 9,
   "metadata": {},
   "outputs": [],
   "source": [
    "# Create a Count Vectorizer to gather the unique elements in sequence\n",
    "vect = CountVectorizer(analyzer = 'char_wb', ngram_range = (3,3))\n",
    "\n",
    "#fit and transform\n",
    "X_train = vect.fit_transform(X_train)\n",
    "X_test = vect.transform(X_test)"
   ]
  },
  {
   "cell_type": "markdown",
   "metadata": {},
   "source": [
    "### Model 1 - Naive Bayes classifier"
   ]
  },
  {
   "cell_type": "code",
   "execution_count": 10,
   "metadata": {},
   "outputs": [],
   "source": [
    "from sklearn.naive_bayes import MultinomialNB"
   ]
  },
  {
   "cell_type": "code",
   "execution_count": 11,
   "metadata": {},
   "outputs": [],
   "source": [
    "nb = MultinomialNB()"
   ]
  },
  {
   "cell_type": "code",
   "execution_count": 12,
   "metadata": {},
   "outputs": [],
   "source": [
    "nb.fit(X_train, y_train)\n",
    "y_pred = nb.predict(X_test)"
   ]
  },
  {
   "cell_type": "code",
   "execution_count": 13,
   "metadata": {},
   "outputs": [
    {
     "data": {
      "text/plain": [
       "0.5613121620264785"
      ]
     },
     "execution_count": 13,
     "metadata": {},
     "output_type": "execute_result"
    }
   ],
   "source": [
    "accuracy_score(y_pred, y_test)"
   ]
  },
  {
   "cell_type": "code",
   "execution_count": null,
   "metadata": {},
   "outputs": [],
   "source": [
    "nb.predict()"
   ]
  },
  {
   "cell_type": "code",
   "execution_count": 14,
   "metadata": {},
   "outputs": [
    {
     "data": {
      "text/plain": [
       "array([[ 155,    0,    0, ...,    5,    6,    2],\n",
       "       [   1,  165,    1, ...,    0,    0,    0],\n",
       "       [   0,    0,  476, ...,   40,    0,   32],\n",
       "       ...,\n",
       "       [   0,    0,    9, ...,  943,   29,   53],\n",
       "       [   0,    0,    1, ...,  114,  165,    4],\n",
       "       [   1,    0,    0, ...,  148,    2, 1051]])"
      ]
     },
     "execution_count": 14,
     "metadata": {},
     "output_type": "execute_result"
    }
   ],
   "source": [
    "confusion_matrix(y_pred, y_test)"
   ]
  },
  {
   "cell_type": "code",
   "execution_count": 15,
   "metadata": {},
   "outputs": [
    {
     "name": "stdout",
     "output_type": "stream",
     "text": [
      "                                         precision    recall  f1-score   support\n",
      "\n",
      "                              HYDROLASE       0.36      0.49      0.42       314\n",
      "                            TRANSFERASE       0.54      0.64      0.59       257\n",
      "                         OXIDOREDUCTASE       0.36      0.65      0.46       732\n",
      "                          IMMUNE SYSTEM       0.50      0.38      0.43       675\n",
      "                                  LYASE       0.85      0.55      0.67      1074\n",
      "          HYDROLASE/HYDROLASE INHIBITOR       0.66      0.71      0.68       285\n",
      "                          TRANSCRIPTION       0.45      0.76      0.56       397\n",
      "                          VIRAL PROTEIN       0.48      0.48      0.48       784\n",
      "                      TRANSPORT PROTEIN       0.58      0.60      0.59       741\n",
      "                                  VIRUS       0.93      0.93      0.93       259\n",
      "                      SIGNALING PROTEIN       0.77      0.48      0.59       412\n",
      "                              ISOMERASE       0.61      0.91      0.73       362\n",
      "                                 LIGASE       0.54      0.56      0.55     11608\n",
      "                       MEMBRANE PROTEIN       0.69      0.64      0.67      2801\n",
      "                        PROTEIN BINDING       0.84      0.61      0.71      3917\n",
      "                     STRUCTURAL PROTEIN       0.74      0.63      0.68      1618\n",
      "                              CHAPERONE       0.47      0.61      0.53      1220\n",
      "  STRUCTURAL GENOMICS, UNKNOWN FUNCTION       0.54      0.70      0.61      2877\n",
      "                  SUGAR BINDING PROTEIN       0.54      0.46      0.50      1259\n",
      "                    DNA BINDING PROTEIN       0.50      0.53      0.51       718\n",
      "                         PHOTOSYNTHESIS       0.66      0.60      0.63       286\n",
      "                     ELECTRON TRANSPORT       0.61      0.39      0.47       315\n",
      "      TRANSFERASE/TRANSFERASE INHIBITOR       0.66      0.63      0.64      8624\n",
      "                  METAL BINDING PROTEIN       0.42      0.73      0.53       366\n",
      "                          CELL ADHESION       0.79      0.67      0.73       865\n",
      "                       UNKNOWN FUNCTION       0.24      0.44      0.31      1171\n",
      "                      PROTEIN TRANSPORT       0.82      0.89      0.86       327\n",
      "                                  TOXIN       0.34      0.56      0.42       674\n",
      "                             CELL CYCLE       0.45      0.63      0.52       478\n",
      "                    RNA BINDING PROTEIN       0.42      0.38      0.40      1627\n",
      "                        DE NOVO PROTEIN       0.22      0.58      0.32       876\n",
      "                                HORMONE       0.78      0.34      0.47      1099\n",
      "                        GENE REGULATION       0.72      0.75      0.74       870\n",
      "OXIDOREDUCTASE/OXIDOREDUCTASE INHIBITOR       0.51      0.70      0.59       676\n",
      "                              APOPTOSIS       0.54      0.48      0.51      2098\n",
      "                          MOTOR PROTEIN       0.57      0.49      0.53      9103\n",
      "                         PROTEIN FIBRIL       0.33      0.60      0.43       776\n",
      "                        METAL TRANSPORT       0.69      0.59      0.63       269\n",
      "            VIRAL PROTEIN/IMMUNE SYSTEM       0.57      0.38      0.46      2064\n",
      "                    CONTRACTILE PROTEIN       0.45      0.40      0.42       729\n",
      "                    FLUORESCENT PROTEIN       0.73      0.44      0.55      2127\n",
      "                            TRANSLATION       0.27      0.59      0.37       281\n",
      "                   BIOSYNTHETIC PROTEIN       0.85      0.62      0.71      1706\n",
      "\n",
      "                               accuracy                           0.56     69717\n",
      "                              macro avg       0.57      0.59      0.56     69717\n",
      "                           weighted avg       0.60      0.56      0.57     69717\n",
      "\n"
     ]
    }
   ],
   "source": [
    "print(classification_report(y_test, y_pred, target_names= types))"
   ]
  },
  {
   "cell_type": "markdown",
   "metadata": {},
   "source": [
    "### Model 2 - AdaBoost\n"
   ]
  },
  {
   "cell_type": "code",
   "execution_count": 16,
   "metadata": {},
   "outputs": [],
   "source": [
    "from sklearn.ensemble import AdaBoostClassifier"
   ]
  },
  {
   "cell_type": "code",
   "execution_count": 17,
   "metadata": {},
   "outputs": [],
   "source": [
    "ab = AdaBoostClassifier()"
   ]
  },
  {
   "cell_type": "code",
   "execution_count": 18,
   "metadata": {},
   "outputs": [
    {
     "data": {
      "text/plain": [
       "0.21230116040563995"
      ]
     },
     "execution_count": 18,
     "metadata": {},
     "output_type": "execute_result"
    }
   ],
   "source": [
    "ab.fit(X_train,y_train)\n",
    "y_pred = ab.predict(X_test)\n",
    "accuracy_score(y_pred, y_test)"
   ]
  },
  {
   "cell_type": "code",
   "execution_count": 19,
   "metadata": {},
   "outputs": [
    {
     "data": {
      "text/plain": [
       "array([[  0,   0,   0, ...,   0,   0,   0],\n",
       "       [  0,   0,   0, ...,   0,   0,   0],\n",
       "       [  0,   0,   0, ...,   0,   0,   0],\n",
       "       ...,\n",
       "       [  0,   0,   0, ...,  33,   2,   0],\n",
       "       [  0,   0,   0, ...,   0,   0,   0],\n",
       "       [  0,   0,   6, ...,  41,   0, 604]])"
      ]
     },
     "execution_count": 19,
     "metadata": {},
     "output_type": "execute_result"
    }
   ],
   "source": [
    "confusion_matrix(y_pred, y_test)"
   ]
  },
  {
   "cell_type": "code",
   "execution_count": 20,
   "metadata": {},
   "outputs": [
    {
     "name": "stderr",
     "output_type": "stream",
     "text": [
      "/Users/julie_hong/opt/anaconda3/lib/python3.8/site-packages/sklearn/metrics/_classification.py:1221: UndefinedMetricWarning: Precision and F-score are ill-defined and being set to 0.0 in labels with no predicted samples. Use `zero_division` parameter to control this behavior.\n",
      "  _warn_prf(average, modifier, msg_start, len(result))\n"
     ]
    },
    {
     "name": "stdout",
     "output_type": "stream",
     "text": [
      "                                         precision    recall  f1-score   support\n",
      "\n",
      "                              HYDROLASE       0.00      0.00      0.00       314\n",
      "                            TRANSFERASE       0.00      0.00      0.00       257\n",
      "                         OXIDOREDUCTASE       0.00      0.00      0.00       732\n",
      "                          IMMUNE SYSTEM       0.00      0.00      0.00       675\n",
      "                                  LYASE       0.00      0.00      0.00      1074\n",
      "          HYDROLASE/HYDROLASE INHIBITOR       0.53      0.30      0.38       285\n",
      "                          TRANSCRIPTION       0.00      0.00      0.00       397\n",
      "                          VIRAL PROTEIN       0.00      0.00      0.00       784\n",
      "                      TRANSPORT PROTEIN       0.00      0.00      0.00       741\n",
      "                                  VIRUS       0.23      0.48      0.31       259\n",
      "                      SIGNALING PROTEIN       0.58      0.40      0.47       412\n",
      "                              ISOMERASE       0.86      0.79      0.82       362\n",
      "                                 LIGASE       0.17      0.89      0.29     11608\n",
      "                       MEMBRANE PROTEIN       0.00      0.00      0.00      2801\n",
      "                        PROTEIN BINDING       0.63      0.31      0.41      3917\n",
      "                     STRUCTURAL PROTEIN       0.00      0.00      0.00      1618\n",
      "                              CHAPERONE       0.00      0.00      0.00      1220\n",
      "  STRUCTURAL GENOMICS, UNKNOWN FUNCTION       0.00      0.00      0.00      2877\n",
      "                  SUGAR BINDING PROTEIN       0.00      0.00      0.00      1259\n",
      "                    DNA BINDING PROTEIN       0.00      0.00      0.00       718\n",
      "                         PHOTOSYNTHESIS       0.00      0.00      0.00       286\n",
      "                     ELECTRON TRANSPORT       0.00      0.00      0.00       315\n",
      "      TRANSFERASE/TRANSFERASE INHIBITOR       0.24      0.10      0.14      8624\n",
      "                  METAL BINDING PROTEIN       0.00      0.00      0.00       366\n",
      "                          CELL ADHESION       0.00      0.00      0.00       865\n",
      "                       UNKNOWN FUNCTION       0.00      0.00      0.00      1171\n",
      "                      PROTEIN TRANSPORT       0.84      0.27      0.40       327\n",
      "                                  TOXIN       0.00      0.00      0.00       674\n",
      "                             CELL CYCLE       0.00      0.00      0.00       478\n",
      "                    RNA BINDING PROTEIN       0.00      0.00      0.00      1627\n",
      "                        DE NOVO PROTEIN       0.00      0.00      0.00       876\n",
      "                                HORMONE       0.00      0.00      0.00      1099\n",
      "                        GENE REGULATION       0.00      0.00      0.00       870\n",
      "OXIDOREDUCTASE/OXIDOREDUCTASE INHIBITOR       0.00      0.00      0.00       676\n",
      "                              APOPTOSIS       0.00      0.00      0.00      2098\n",
      "                          MOTOR PROTEIN       0.40      0.12      0.18      9103\n",
      "                         PROTEIN FIBRIL       0.23      0.01      0.03       776\n",
      "                        METAL TRANSPORT       0.00      0.00      0.00       269\n",
      "            VIRAL PROTEIN/IMMUNE SYSTEM       0.00      0.00      0.00      2064\n",
      "                    CONTRACTILE PROTEIN       0.00      0.00      0.00       729\n",
      "                    FLUORESCENT PROTEIN       0.52      0.02      0.03      2127\n",
      "                            TRANSLATION       0.00      0.00      0.00       281\n",
      "                   BIOSYNTHETIC PROTEIN       0.90      0.35      0.51      1706\n",
      "\n",
      "                               accuracy                           0.21     69717\n",
      "                              macro avg       0.14      0.09      0.09     69717\n",
      "                           weighted avg       0.20      0.21      0.14     69717\n",
      "\n"
     ]
    }
   ],
   "source": [
    "print(classification_report(y_test, y_pred, target_names= types))"
   ]
  }
 ],
 "metadata": {
  "kernelspec": {
   "display_name": "Python 3",
   "language": "python",
   "name": "python3"
  },
  "language_info": {
   "codemirror_mode": {
    "name": "ipython",
    "version": 3
   },
   "file_extension": ".py",
   "mimetype": "text/x-python",
   "name": "python",
   "nbconvert_exporter": "python",
   "pygments_lexer": "ipython3",
   "version": "3.8.8"
  }
 },
 "nbformat": 4,
 "nbformat_minor": 4
}
