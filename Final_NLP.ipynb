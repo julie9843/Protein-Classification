{
  "nbformat": 4,
  "nbformat_minor": 0,
  "metadata": {
    "accelerator": "GPU",
    "colab": {
      "name": "Final_NLP.ipynb",
      "provenance": [],
      "collapsed_sections": []
    },
    "kernelspec": {
      "display_name": "Python 3",
      "name": "python3"
    },
    "language_info": {
      "name": "python"
    }
  },
  "cells": [
    {
      "cell_type": "code",
      "metadata": {
        "id": "C8a2TeQFbRS_"
      },
      "source": [
        "import pandas as pd\n",
        "import numpy as np\n",
        "from collections import Counter\n",
        "import matplotlib.pyplot as plt\n",
        "import seaborn as sns"
      ],
      "execution_count": null,
      "outputs": []
    },
    {
      "cell_type": "code",
      "metadata": {
        "colab": {
          "base_uri": "https://localhost:8080/",
          "height": 462
        },
        "id": "KNyPhb8BcHQl",
        "outputId": "eb5e2f5f-d49d-4c88-cf5c-c7c19e8ff86e"
      },
      "source": [
        "df_1 = pd.read_csv('pdb_data_no_dups.csv')\n",
        "df_1.head()"
      ],
      "execution_count": null,
      "outputs": [
        {
          "output_type": "execute_result",
          "data": {
            "text/html": [
              "<div>\n",
              "<style scoped>\n",
              "    .dataframe tbody tr th:only-of-type {\n",
              "        vertical-align: middle;\n",
              "    }\n",
              "\n",
              "    .dataframe tbody tr th {\n",
              "        vertical-align: top;\n",
              "    }\n",
              "\n",
              "    .dataframe thead th {\n",
              "        text-align: right;\n",
              "    }\n",
              "</style>\n",
              "<table border=\"1\" class=\"dataframe\">\n",
              "  <thead>\n",
              "    <tr style=\"text-align: right;\">\n",
              "      <th></th>\n",
              "      <th>structureId</th>\n",
              "      <th>classification</th>\n",
              "      <th>experimentalTechnique</th>\n",
              "      <th>macromoleculeType</th>\n",
              "      <th>residueCount</th>\n",
              "      <th>resolution</th>\n",
              "      <th>structureMolecularWeight</th>\n",
              "      <th>crystallizationMethod</th>\n",
              "      <th>crystallizationTempK</th>\n",
              "      <th>densityMatthews</th>\n",
              "      <th>densityPercentSol</th>\n",
              "      <th>pdbxDetails</th>\n",
              "      <th>phValue</th>\n",
              "      <th>publicationYear</th>\n",
              "    </tr>\n",
              "  </thead>\n",
              "  <tbody>\n",
              "    <tr>\n",
              "      <th>0</th>\n",
              "      <td>100D</td>\n",
              "      <td>DNA-RNA HYBRID</td>\n",
              "      <td>X-RAY DIFFRACTION</td>\n",
              "      <td>DNA/RNA Hybrid</td>\n",
              "      <td>20</td>\n",
              "      <td>1.90</td>\n",
              "      <td>6360.30</td>\n",
              "      <td>VAPOR DIFFUSION, HANGING DROP</td>\n",
              "      <td>NaN</td>\n",
              "      <td>1.78</td>\n",
              "      <td>30.89</td>\n",
              "      <td>pH 7.00, VAPOR DIFFUSION, HANGING DROP</td>\n",
              "      <td>7.0</td>\n",
              "      <td>1994.0</td>\n",
              "    </tr>\n",
              "    <tr>\n",
              "      <th>1</th>\n",
              "      <td>101D</td>\n",
              "      <td>DNA</td>\n",
              "      <td>X-RAY DIFFRACTION</td>\n",
              "      <td>DNA</td>\n",
              "      <td>24</td>\n",
              "      <td>2.25</td>\n",
              "      <td>7939.35</td>\n",
              "      <td>NaN</td>\n",
              "      <td>NaN</td>\n",
              "      <td>2.00</td>\n",
              "      <td>38.45</td>\n",
              "      <td>NaN</td>\n",
              "      <td>NaN</td>\n",
              "      <td>1995.0</td>\n",
              "    </tr>\n",
              "    <tr>\n",
              "      <th>2</th>\n",
              "      <td>101M</td>\n",
              "      <td>OXYGEN TRANSPORT</td>\n",
              "      <td>X-RAY DIFFRACTION</td>\n",
              "      <td>Protein</td>\n",
              "      <td>154</td>\n",
              "      <td>2.07</td>\n",
              "      <td>18112.80</td>\n",
              "      <td>NaN</td>\n",
              "      <td>NaN</td>\n",
              "      <td>3.09</td>\n",
              "      <td>60.20</td>\n",
              "      <td>3.0 M AMMONIUM SULFATE, 20 MM TRIS, 1MM EDTA, ...</td>\n",
              "      <td>9.0</td>\n",
              "      <td>1999.0</td>\n",
              "    </tr>\n",
              "    <tr>\n",
              "      <th>3</th>\n",
              "      <td>102D</td>\n",
              "      <td>DNA</td>\n",
              "      <td>X-RAY DIFFRACTION</td>\n",
              "      <td>DNA</td>\n",
              "      <td>24</td>\n",
              "      <td>2.20</td>\n",
              "      <td>7637.17</td>\n",
              "      <td>VAPOR DIFFUSION, SITTING DROP</td>\n",
              "      <td>277.0</td>\n",
              "      <td>2.28</td>\n",
              "      <td>46.06</td>\n",
              "      <td>pH 7.00, VAPOR DIFFUSION, SITTING DROP, temper...</td>\n",
              "      <td>7.0</td>\n",
              "      <td>1995.0</td>\n",
              "    </tr>\n",
              "    <tr>\n",
              "      <th>4</th>\n",
              "      <td>102L</td>\n",
              "      <td>HYDROLASE(O-GLYCOSYL)</td>\n",
              "      <td>X-RAY DIFFRACTION</td>\n",
              "      <td>Protein</td>\n",
              "      <td>165</td>\n",
              "      <td>1.74</td>\n",
              "      <td>18926.61</td>\n",
              "      <td>NaN</td>\n",
              "      <td>NaN</td>\n",
              "      <td>2.75</td>\n",
              "      <td>55.28</td>\n",
              "      <td>NaN</td>\n",
              "      <td>NaN</td>\n",
              "      <td>1993.0</td>\n",
              "    </tr>\n",
              "  </tbody>\n",
              "</table>\n",
              "</div>"
            ],
            "text/plain": [
              "  structureId         classification  ... phValue publicationYear\n",
              "0        100D         DNA-RNA HYBRID  ...     7.0          1994.0\n",
              "1        101D                    DNA  ...     NaN          1995.0\n",
              "2        101M       OXYGEN TRANSPORT  ...     9.0          1999.0\n",
              "3        102D                    DNA  ...     7.0          1995.0\n",
              "4        102L  HYDROLASE(O-GLYCOSYL)  ...     NaN          1993.0\n",
              "\n",
              "[5 rows x 14 columns]"
            ]
          },
          "metadata": {
            "tags": []
          },
          "execution_count": 4
        }
      ]
    },
    {
      "cell_type": "code",
      "metadata": {
        "id": "l5MMImFdhSfp",
        "colab": {
          "base_uri": "https://localhost:8080/",
          "height": 224
        },
        "outputId": "98567742-2cd8-4e15-98b6-e9e0a8128087"
      },
      "source": [
        "df_2 = pd.read_csv('pdb_data_seq.csv')\n",
        "df_2.head()"
      ],
      "execution_count": null,
      "outputs": [
        {
          "output_type": "execute_result",
          "data": {
            "text/html": [
              "<div>\n",
              "<style scoped>\n",
              "    .dataframe tbody tr th:only-of-type {\n",
              "        vertical-align: middle;\n",
              "    }\n",
              "\n",
              "    .dataframe tbody tr th {\n",
              "        vertical-align: top;\n",
              "    }\n",
              "\n",
              "    .dataframe thead th {\n",
              "        text-align: right;\n",
              "    }\n",
              "</style>\n",
              "<table border=\"1\" class=\"dataframe\">\n",
              "  <thead>\n",
              "    <tr style=\"text-align: right;\">\n",
              "      <th></th>\n",
              "      <th>structureId</th>\n",
              "      <th>chainId</th>\n",
              "      <th>sequence</th>\n",
              "      <th>residueCount</th>\n",
              "      <th>macromoleculeType</th>\n",
              "    </tr>\n",
              "  </thead>\n",
              "  <tbody>\n",
              "    <tr>\n",
              "      <th>0</th>\n",
              "      <td>100D</td>\n",
              "      <td>A</td>\n",
              "      <td>CCGGCGCCGG</td>\n",
              "      <td>20</td>\n",
              "      <td>DNA/RNA Hybrid</td>\n",
              "    </tr>\n",
              "    <tr>\n",
              "      <th>1</th>\n",
              "      <td>100D</td>\n",
              "      <td>B</td>\n",
              "      <td>CCGGCGCCGG</td>\n",
              "      <td>20</td>\n",
              "      <td>DNA/RNA Hybrid</td>\n",
              "    </tr>\n",
              "    <tr>\n",
              "      <th>2</th>\n",
              "      <td>101D</td>\n",
              "      <td>A</td>\n",
              "      <td>CGCGAATTCGCG</td>\n",
              "      <td>24</td>\n",
              "      <td>DNA</td>\n",
              "    </tr>\n",
              "    <tr>\n",
              "      <th>3</th>\n",
              "      <td>101D</td>\n",
              "      <td>B</td>\n",
              "      <td>CGCGAATTCGCG</td>\n",
              "      <td>24</td>\n",
              "      <td>DNA</td>\n",
              "    </tr>\n",
              "    <tr>\n",
              "      <th>4</th>\n",
              "      <td>101M</td>\n",
              "      <td>A</td>\n",
              "      <td>MVLSEGEWQLVLHVWAKVEADVAGHGQDILIRLFKSHPETLEKFDR...</td>\n",
              "      <td>154</td>\n",
              "      <td>Protein</td>\n",
              "    </tr>\n",
              "  </tbody>\n",
              "</table>\n",
              "</div>"
            ],
            "text/plain": [
              "  structureId chainId  ... residueCount  macromoleculeType\n",
              "0        100D       A  ...           20     DNA/RNA Hybrid\n",
              "1        100D       B  ...           20     DNA/RNA Hybrid\n",
              "2        101D       A  ...           24                DNA\n",
              "3        101D       B  ...           24                DNA\n",
              "4        101M       A  ...          154            Protein\n",
              "\n",
              "[5 rows x 5 columns]"
            ]
          },
          "metadata": {
            "tags": []
          },
          "execution_count": 5
        }
      ]
    },
    {
      "cell_type": "code",
      "metadata": {
        "id": "8R11SPRphbM_",
        "colab": {
          "base_uri": "https://localhost:8080/",
          "height": 428
        },
        "outputId": "ae963712-740e-47df-e9ed-325d2d04a066"
      },
      "source": [
        "df = pd.merge(df_1, df_2, how='inner', on='structureId')\n",
        "df.head()"
      ],
      "execution_count": null,
      "outputs": [
        {
          "output_type": "execute_result",
          "data": {
            "text/html": [
              "<div>\n",
              "<style scoped>\n",
              "    .dataframe tbody tr th:only-of-type {\n",
              "        vertical-align: middle;\n",
              "    }\n",
              "\n",
              "    .dataframe tbody tr th {\n",
              "        vertical-align: top;\n",
              "    }\n",
              "\n",
              "    .dataframe thead th {\n",
              "        text-align: right;\n",
              "    }\n",
              "</style>\n",
              "<table border=\"1\" class=\"dataframe\">\n",
              "  <thead>\n",
              "    <tr style=\"text-align: right;\">\n",
              "      <th></th>\n",
              "      <th>structureId</th>\n",
              "      <th>classification</th>\n",
              "      <th>experimentalTechnique</th>\n",
              "      <th>macromoleculeType_x</th>\n",
              "      <th>residueCount_x</th>\n",
              "      <th>resolution</th>\n",
              "      <th>structureMolecularWeight</th>\n",
              "      <th>crystallizationMethod</th>\n",
              "      <th>crystallizationTempK</th>\n",
              "      <th>densityMatthews</th>\n",
              "      <th>densityPercentSol</th>\n",
              "      <th>pdbxDetails</th>\n",
              "      <th>phValue</th>\n",
              "      <th>publicationYear</th>\n",
              "      <th>chainId</th>\n",
              "      <th>sequence</th>\n",
              "      <th>residueCount_y</th>\n",
              "      <th>macromoleculeType_y</th>\n",
              "    </tr>\n",
              "  </thead>\n",
              "  <tbody>\n",
              "    <tr>\n",
              "      <th>0</th>\n",
              "      <td>100D</td>\n",
              "      <td>DNA-RNA HYBRID</td>\n",
              "      <td>X-RAY DIFFRACTION</td>\n",
              "      <td>DNA/RNA Hybrid</td>\n",
              "      <td>20</td>\n",
              "      <td>1.90</td>\n",
              "      <td>6360.30</td>\n",
              "      <td>VAPOR DIFFUSION, HANGING DROP</td>\n",
              "      <td>NaN</td>\n",
              "      <td>1.78</td>\n",
              "      <td>30.89</td>\n",
              "      <td>pH 7.00, VAPOR DIFFUSION, HANGING DROP</td>\n",
              "      <td>7.0</td>\n",
              "      <td>1994.0</td>\n",
              "      <td>A</td>\n",
              "      <td>CCGGCGCCGG</td>\n",
              "      <td>20</td>\n",
              "      <td>DNA/RNA Hybrid</td>\n",
              "    </tr>\n",
              "    <tr>\n",
              "      <th>1</th>\n",
              "      <td>100D</td>\n",
              "      <td>DNA-RNA HYBRID</td>\n",
              "      <td>X-RAY DIFFRACTION</td>\n",
              "      <td>DNA/RNA Hybrid</td>\n",
              "      <td>20</td>\n",
              "      <td>1.90</td>\n",
              "      <td>6360.30</td>\n",
              "      <td>VAPOR DIFFUSION, HANGING DROP</td>\n",
              "      <td>NaN</td>\n",
              "      <td>1.78</td>\n",
              "      <td>30.89</td>\n",
              "      <td>pH 7.00, VAPOR DIFFUSION, HANGING DROP</td>\n",
              "      <td>7.0</td>\n",
              "      <td>1994.0</td>\n",
              "      <td>B</td>\n",
              "      <td>CCGGCGCCGG</td>\n",
              "      <td>20</td>\n",
              "      <td>DNA/RNA Hybrid</td>\n",
              "    </tr>\n",
              "    <tr>\n",
              "      <th>2</th>\n",
              "      <td>101D</td>\n",
              "      <td>DNA</td>\n",
              "      <td>X-RAY DIFFRACTION</td>\n",
              "      <td>DNA</td>\n",
              "      <td>24</td>\n",
              "      <td>2.25</td>\n",
              "      <td>7939.35</td>\n",
              "      <td>NaN</td>\n",
              "      <td>NaN</td>\n",
              "      <td>2.00</td>\n",
              "      <td>38.45</td>\n",
              "      <td>NaN</td>\n",
              "      <td>NaN</td>\n",
              "      <td>1995.0</td>\n",
              "      <td>A</td>\n",
              "      <td>CGCGAATTCGCG</td>\n",
              "      <td>24</td>\n",
              "      <td>DNA</td>\n",
              "    </tr>\n",
              "    <tr>\n",
              "      <th>3</th>\n",
              "      <td>101D</td>\n",
              "      <td>DNA</td>\n",
              "      <td>X-RAY DIFFRACTION</td>\n",
              "      <td>DNA</td>\n",
              "      <td>24</td>\n",
              "      <td>2.25</td>\n",
              "      <td>7939.35</td>\n",
              "      <td>NaN</td>\n",
              "      <td>NaN</td>\n",
              "      <td>2.00</td>\n",
              "      <td>38.45</td>\n",
              "      <td>NaN</td>\n",
              "      <td>NaN</td>\n",
              "      <td>1995.0</td>\n",
              "      <td>B</td>\n",
              "      <td>CGCGAATTCGCG</td>\n",
              "      <td>24</td>\n",
              "      <td>DNA</td>\n",
              "    </tr>\n",
              "    <tr>\n",
              "      <th>4</th>\n",
              "      <td>101M</td>\n",
              "      <td>OXYGEN TRANSPORT</td>\n",
              "      <td>X-RAY DIFFRACTION</td>\n",
              "      <td>Protein</td>\n",
              "      <td>154</td>\n",
              "      <td>2.07</td>\n",
              "      <td>18112.80</td>\n",
              "      <td>NaN</td>\n",
              "      <td>NaN</td>\n",
              "      <td>3.09</td>\n",
              "      <td>60.20</td>\n",
              "      <td>3.0 M AMMONIUM SULFATE, 20 MM TRIS, 1MM EDTA, ...</td>\n",
              "      <td>9.0</td>\n",
              "      <td>1999.0</td>\n",
              "      <td>A</td>\n",
              "      <td>MVLSEGEWQLVLHVWAKVEADVAGHGQDILIRLFKSHPETLEKFDR...</td>\n",
              "      <td>154</td>\n",
              "      <td>Protein</td>\n",
              "    </tr>\n",
              "  </tbody>\n",
              "</table>\n",
              "</div>"
            ],
            "text/plain": [
              "  structureId    classification  ... residueCount_y macromoleculeType_y\n",
              "0        100D    DNA-RNA HYBRID  ...             20      DNA/RNA Hybrid\n",
              "1        100D    DNA-RNA HYBRID  ...             20      DNA/RNA Hybrid\n",
              "2        101D               DNA  ...             24                 DNA\n",
              "3        101D               DNA  ...             24                 DNA\n",
              "4        101M  OXYGEN TRANSPORT  ...            154             Protein\n",
              "\n",
              "[5 rows x 18 columns]"
            ]
          },
          "metadata": {
            "tags": []
          },
          "execution_count": 6
        }
      ]
    },
    {
      "cell_type": "code",
      "metadata": {
        "id": "HdXqNIzdic-0",
        "colab": {
          "base_uri": "https://localhost:8080/"
        },
        "outputId": "ee4f3d66-6378-4776-b63f-d1a29930f86b"
      },
      "source": [
        "# Drop Null values \n",
        "df= df[df.macromoleculeType_x=='Protein']\n",
        "df.shape"
      ],
      "execution_count": null,
      "outputs": [
        {
          "output_type": "execute_result",
          "data": {
            "text/plain": [
              "(346325, 18)"
            ]
          },
          "metadata": {
            "tags": []
          },
          "execution_count": 7
        }
      ]
    },
    {
      "cell_type": "code",
      "metadata": {
        "id": "0yojp9cQipDf",
        "colab": {
          "base_uri": "https://localhost:8080/"
        },
        "outputId": "d81625c4-b728-497b-91dc-f8cc40c69d78"
      },
      "source": [
        "print(df.classification.isnull().sum())\n",
        "print(df.sequence.isnull().sum())"
      ],
      "execution_count": null,
      "outputs": [
        {
          "output_type": "stream",
          "text": [
            "1\n",
            "3\n"
          ],
          "name": "stdout"
        }
      ]
    },
    {
      "cell_type": "code",
      "metadata": {
        "id": "s2l3RqTBi-Qj"
      },
      "source": [
        "# Drop rows with missing labels\n",
        "df = df[[type(c) == type('') for c in df.classification.values]]\n",
        "df = df[[type(c) == type('') for c in df.sequence.values]]"
      ],
      "execution_count": null,
      "outputs": []
    },
    {
      "cell_type": "code",
      "metadata": {
        "id": "bEtt23NLj11b",
        "colab": {
          "base_uri": "https://localhost:8080/"
        },
        "outputId": "dbc08162-97c5-45c9-970c-dc55ad54111d"
      },
      "source": [
        "# Explore dataset \n",
        "df.classification.describe()"
      ],
      "execution_count": null,
      "outputs": [
        {
          "output_type": "execute_result",
          "data": {
            "text/plain": [
              "count        346321\n",
              "unique         4468\n",
              "top       HYDROLASE\n",
              "freq          46336\n",
              "Name: classification, dtype: object"
            ]
          },
          "metadata": {
            "tags": []
          },
          "execution_count": 10
        }
      ]
    },
    {
      "cell_type": "code",
      "metadata": {
        "id": "YJw6SUaVj8P1",
        "colab": {
          "base_uri": "https://localhost:8080/"
        },
        "outputId": "52973cc5-50fd-4ddf-fe62-ada7b6b11066"
      },
      "source": [
        "class_count = df.classification.value_counts()\n",
        "print(class_count)"
      ],
      "execution_count": null,
      "outputs": [
        {
          "output_type": "stream",
          "text": [
            "HYDROLASE                               46336\n",
            "TRANSFERASE                             36424\n",
            "OXIDOREDUCTASE                          34321\n",
            "IMMUNE SYSTEM                           15615\n",
            "LYASE                                   11682\n",
            "                                        ...  \n",
            "GLYCOGEN METABOLISM                         1\n",
            "Viral protein, Transcription                1\n",
            "MEMBRANE PROTEIN, RECEPTOR/Agonist          1\n",
            "STRUCTURAL GENOMICS, GENE REGULATION        1\n",
            "RECOMBINATION, REPLICATION                  1\n",
            "Name: classification, Length: 4468, dtype: int64\n"
          ],
          "name": "stdout"
        }
      ]
    },
    {
      "cell_type": "code",
      "metadata": {
        "id": "kbP6o4tzkj3S",
        "colab": {
          "base_uri": "https://localhost:8080/",
          "height": 349
        },
        "outputId": "37ca2b80-597a-49a6-b2fe-1121313be34e"
      },
      "source": [
        "plt.figure()\n",
        "sns.distplot(class_count, hist=False)\n",
        "plt.title('Distribution of classifications')\n",
        "plt.show()"
      ],
      "execution_count": null,
      "outputs": [
        {
          "output_type": "stream",
          "text": [
            "/usr/local/lib/python3.7/dist-packages/seaborn/distributions.py:2557: FutureWarning: `distplot` is a deprecated function and will be removed in a future version. Please adapt your code to use either `displot` (a figure-level function with similar flexibility) or `kdeplot` (an axes-level function for kernel density plots).\n",
            "  warnings.warn(msg, FutureWarning)\n"
          ],
          "name": "stderr"
        },
        {
          "output_type": "display_data",
          "data": {
            "image/png": "[encoded data removed]",
            "text/plain": [
              "<Figure size 432x288 with 1 Axes>"
            ]
          },
          "metadata": {
            "tags": [],
            "needs_background": "light"
          }
        }
      ]
    },
    {
      "cell_type": "code",
      "metadata": {
        "id": "j3PO-8L5k3pq",
        "colab": {
          "base_uri": "https://localhost:8080/"
        },
        "outputId": "e1e87261-58a1-4117-ede3-ce4e48690f88"
      },
      "source": [
        "# only gather classification for types where counts are over 1000\n",
        "counts = Counter(df.classification)\n",
        "df = df[df.classification.isin([key for key in counts if counts[key]>1000])]\n",
        "df.shape"
      ],
      "execution_count": null,
      "outputs": [
        {
          "output_type": "execute_result",
          "data": {
            "text/plain": [
              "(278866, 18)"
            ]
          },
          "metadata": {
            "tags": []
          },
          "execution_count": 13
        }
      ]
    },
    {
      "cell_type": "code",
      "metadata": {
        "id": "A2towKMYjhdu",
        "colab": {
          "base_uri": "https://localhost:8080/"
        },
        "outputId": "2ae7b068-3045-4fae-d70c-2d4350ff2d12"
      },
      "source": [
        "cnt = Counter(df.classification)\n",
        "# sort classes\n",
        "sorted_classes = cnt.most_common()\n",
        "classes = [c[0] for c in sorted_classes]\n",
        "counts = [c[1] for c in sorted_classes]\n",
        "print(\"at least \" + str(counts[-1]) + \" instances per class\")\n",
        "\n",
        "\n",
        "seqs = df.sequence.values\n",
        "lengths = [len(s) for s in seqs]\n",
        "print('mean length of seqs: ', sum(lengths)/len(lengths))"
      ],
      "execution_count": null,
      "outputs": [
        {
          "output_type": "stream",
          "text": [
            "at least 1006 instances per class\n",
            "mean length of seqs:  274.5884905295016\n"
          ],
          "name": "stdout"
        }
      ]
    },
    {
      "cell_type": "code",
      "metadata": {
        "colab": {
          "base_uri": "https://localhost:8080/"
        },
        "id": "Z--QqC41jM_3",
        "outputId": "0ddcf348-496a-45d8-8477-0d742992eaca"
      },
      "source": [
        "seqs"
      ],
      "execution_count": null,
      "outputs": [
        {
          "output_type": "execute_result",
          "data": {
            "text/plain": [
              "array(['PPYTVVYFPVRGRCAALRMLLADQGQSWKEEVVTVETWQEGSLKASCLYGQLPKFQDGDLTLYQSNTILRHLGRTLGLYGKDQQEAALVDMVNDGVEDLRCKYISLIYTNYEAGKDDYVKALPGQLKPFETLLSQNQGGKTFIVGDQISFADYNLLDLLLIHEVLAPGCLDAFPLLSAYVGRLSARPKLKAFLASPEYVNLPINGNGKQ',\n",
              "       'PPYTVVYFPVRGRCAALRMLLADQGQSWKEEVVTVETWQEGSLKASCLYGQLPKFQDGDLTLYQSNTILRHLGRTLGLYGKDQQEAALVDMVNDGVEDLRCKYISLIYTNYEAGKDDYVKALPGQLKPFETLLSQNQGGKTFIVGDQISFADYNLLDLLLIHEVLAPGCLDAFPLLSAYVGRLSARPKLKAFLASPEYVNLPINGNGKQ',\n",
              "       'TYTTRQIGAKNTLEYKVYIEKDGKPVSAFHDIPLYADKENNIFNMVVEIPRWTNAKLEITKEETLNPIIQDTKKGKLRFVRNCFPHHGYIHNYGAFPQTWEDPNVSHPETKAVGDNEPIDVLEIGETIAYTGQVKQVKALGIMALLDEGETDWKVIAIDINDPLAPKLNDIEDVEKYFPGLLRATNEWFRIYKIPDGKPENQFAFSGEAKNKKYALDIIKETHDSWKQLIAGKSSDSKGIDLTNVTLPDTPTYSKAASDAIPPASLKADAPIDKSIDKWFFISGSV',\n",
              "       ...,\n",
              "       'SRAPAPATPHAPDHSPAPNSPTLTRPPEGPKFPRVKNWELGSITYDTLCAQSQQDGPCTPRRCLGSLVLPRKLQTRPSPGPPPAEQLLSQARDFINQYYSSIKRSGSQAHEERLQEVEAEVASTGTYHLRESELVFGAKQAWRNAPRCVGRIQWGKLQVFDARDCSSAQEMFTYICNHIKYATNRGNLRSAITVFPQRAPGRGDFRIWNSQLVRYAGYRQQDGSVRGDPANVEITELCIQHGWTPGNGRFDVLPLLLQAPDEAPELFVLPPELVLEVPLEHPTLEWFAALGLRWYALPAVSNMLLEIGGLEFSAAPFSGWYMSTEIGTRNLCDPHRYNILEDVAVCMDLDTRTTSSLWKDKAAVEINLAVLHSFQLAKVTIVDHHAATVSFMKHLDNEQKARGGCPADWAWIVPPISGSLTPVFHQEMVNYILSPAFRYQPDPW',\n",
              "       'SRAPAPATPHAPDHSPAPNSPTLTRPPEGPKFPRVKNWELGSITYDTLCAQSQQDGPCTPRRCLGSLVLPRKLQTRPSPGPPPAEQLLSQARDFINQYYSSIKRSGSQAHEERLQEVEAEVASTGTYHLRESELVFGAKQAWRNAPRCVGRIQWGKLQVFDARDCSSAQEMFTYICNHIKYATNRGNLRSAITVFPQRAPGRGDFRIWNSQLVRYAGYRQQDGSVRGDPANVEITELCIQHGWTPGNGRFDVLPLLLQAPDEAPELFVLPPELVLEVPLEHPTLEWFAALGLRWYALPAVSNMLLEIGGLEFSAAPFSGWYMSTEIGTRNLCDPHRYNILEDVAVCMDLDTRTTSSLWKDKAAVEINLAVLHSFQLAKVTIVDHHAATVSFMKHLDNEQKARGGCPADWAWIVPPISGSLTPVFHQEMVNYILSPAFRYQPDPW',\n",
              "       'LEVLLGSGDGSLVFVPSEFSVPSGEKIVFKNNAGFPHNVVFDEDEIPAGVDAVKISMPEEELLNAPGETYVVTLDTKGTYSFYCSPHQGAGMVGKVTVN'],\n",
              "      dtype=object)"
            ]
          },
          "metadata": {
            "tags": []
          },
          "execution_count": 15
        }
      ]
    },
    {
      "cell_type": "code",
      "metadata": {
        "id": "5uMmpPuCmXMs",
        "colab": {
          "base_uri": "https://localhost:8080/",
          "height": 301
        },
        "outputId": "44ce0631-ba80-4aa0-bc9e-0f96e99b892a"
      },
      "source": [
        "\n",
        "fig, axarr = plt.subplots(1,2, figsize=(20,5))\n",
        "axarr[0].bar(range(len(classes)),counts)\n",
        "plt.sca(axarr[0])\n",
        "plt.xticks(range(len(classes)), classes, rotation='vertical')\n",
        "axarr[0].set_ylabel('frequency')\n",
        "\n",
        "axarr[1].hist(lengths, bins=100)\n",
        "axarr[1].set_xlabel('sequence length')\n",
        "axarr[1].set_ylabel('# sequences')\n",
        "plt.show()"
      ],
      "execution_count": null,
      "outputs": [
        {
          "output_type": "display_data",
          "data": {
            "image/png": "[encoded data removed]",
            "text/plain": [
              "<Figure size 1440x360 with 2 Axes>"
            ]
          },
          "metadata": {
            "tags": [],
            "needs_background": "light"
          }
        }
      ]
    },
    {
      "cell_type": "markdown",
      "metadata": {
        "id": "gFc_c6oXn0IK"
      },
      "source": [
        "Transform labels into one-hot encodes "
      ]
    },
    {
      "cell_type": "code",
      "metadata": {
        "id": "Sh86SqDSnzE5"
      },
      "source": [
        "from sklearn.preprocessing import LabelBinarizer\n",
        "\n",
        "# Transform labels to one-hot\n",
        "lb = LabelBinarizer()\n",
        "Y = lb.fit_transform(df.classification)"
      ],
      "execution_count": null,
      "outputs": []
    },
    {
      "cell_type": "code",
      "metadata": {
        "id": "rthm2WUxn95f"
      },
      "source": [
        "# Tokenize and pad \n",
        "# Tokenizer translates sequence into a number \n",
        "# pad ensures every sequence has same length "
      ],
      "execution_count": null,
      "outputs": []
    },
    {
      "cell_type": "code",
      "metadata": {
        "id": "ts-avHZLowgP"
      },
      "source": [
        "from keras.preprocessing import text, sequence\n",
        "from keras.preprocessing.text import Tokenizer\n",
        "from sklearn.model_selection import train_test_split\n",
        "\n",
        "max_length = 512 \n",
        "\n",
        "# initiate Tokenizer \n",
        "tokenizer = Tokenizer(char_level=True) #tokenize in character level \n",
        "tokenizer.fit_on_texts(seqs)\n",
        "\n",
        "X = tokenizer.texts_to_sequences(seqs)\n",
        "X = sequence.pad_sequences(X, maxlen=max_length)"
      ],
      "execution_count": null,
      "outputs": []
    },
    {
      "cell_type": "code",
      "metadata": {
        "id": "n3uJx-LTpcNT",
        "colab": {
          "base_uri": "https://localhost:8080/"
        },
        "outputId": "c9dc6beb-5d7f-4905-dbd1-0efab37658b7"
      },
      "source": [
        "from keras.models import Sequential\n",
        "from keras.layers import Dense, Conv1D, MaxPooling1D, Flatten\n",
        "from keras.layers import LSTM\n",
        "from keras.layers.embeddings import Embedding\n",
        "\n",
        "embedding_dim = 8\n",
        "\n",
        "# create the model\n",
        "model = Sequential()\n",
        "model.add(Embedding(len(tokenizer.word_index)+1, embedding_dim, input_length=max_length))\n",
        "model.add(Conv1D(filters=64, kernel_size=6, padding='same', activation='relu'))\n",
        "model.add(MaxPooling1D(pool_size=2))\n",
        "model.add(Conv1D(filters=32, kernel_size=3, padding='same', activation='relu'))\n",
        "model.add(MaxPooling1D(pool_size=2))\n",
        "model.add(Flatten())\n",
        "model.add(Dense(128, activation='relu'))\n",
        "model.add(Dense(len(classes), activation='softmax'))\n",
        "model.compile(loss='categorical_crossentropy', optimizer='adam', metrics=['accuracy'])\n",
        "print(model.summary())\n"
      ],
      "execution_count": null,
      "outputs": [
        {
          "output_type": "stream",
          "text": [
            "Model: \"sequential\"\n",
            "_________________________________________________________________\n",
            "Layer (type)                 Output Shape              Param #   \n",
            "=================================================================\n",
            "embedding (Embedding)        (None, 512, 8)            208       \n",
            "_________________________________________________________________\n",
            "conv1d (Conv1D)              (None, 512, 64)           3136      \n",
            "_________________________________________________________________\n",
            "max_pooling1d (MaxPooling1D) (None, 256, 64)           0         \n",
            "_________________________________________________________________\n",
            "conv1d_1 (Conv1D)            (None, 256, 32)           6176      \n",
            "_________________________________________________________________\n",
            "max_pooling1d_1 (MaxPooling1 (None, 128, 32)           0         \n",
            "_________________________________________________________________\n",
            "flatten (Flatten)            (None, 4096)              0         \n",
            "_________________________________________________________________\n",
            "dense (Dense)                (None, 128)               524416    \n",
            "_________________________________________________________________\n",
            "dense_1 (Dense)              (None, 43)                5547      \n",
            "=================================================================\n",
            "Total params: 539,483\n",
            "Trainable params: 539,483\n",
            "Non-trainable params: 0\n",
            "_________________________________________________________________\n",
            "None\n"
          ],
          "name": "stdout"
        }
      ]
    },
    {
      "cell_type": "code",
      "metadata": {
        "id": "wcfCSNv8phJv",
        "colab": {
          "base_uri": "https://localhost:8080/"
        },
        "outputId": "3f1017aa-8822-4bd2-d31c-ebb39d1304bd"
      },
      "source": [
        "X_train, X_test, y_train, y_test = train_test_split(X, Y, test_size=.2)\n",
        "model.fit(X_train, y_train, validation_data=(X_test, y_test), epochs=20, batch_size=128)"
      ],
      "execution_count": null,
      "outputs": [
        {
          "output_type": "stream",
          "text": [
            "Epoch 1/20\n",
            "1743/1743 [==============================] - 62s 11ms/step - loss: 2.5006 - accuracy: 0.3311 - val_loss: 1.5408 - val_accuracy: 0.5990\n",
            "Epoch 2/20\n",
            "1743/1743 [==============================] - 18s 10ms/step - loss: 1.3460 - accuracy: 0.6465 - val_loss: 1.1818 - val_accuracy: 0.6947\n",
            "Epoch 3/20\n",
            "1743/1743 [==============================] - 18s 10ms/step - loss: 0.9955 - accuracy: 0.7348 - val_loss: 1.0490 - val_accuracy: 0.7326\n",
            "Epoch 4/20\n",
            "1743/1743 [==============================] - 18s 10ms/step - loss: 0.8053 - accuracy: 0.7816 - val_loss: 0.9620 - val_accuracy: 0.7606\n",
            "Epoch 5/20\n",
            "1743/1743 [==============================] - 18s 10ms/step - loss: 0.6899 - accuracy: 0.8104 - val_loss: 0.9053 - val_accuracy: 0.7825\n",
            "Epoch 6/20\n",
            "1743/1743 [==============================] - 18s 10ms/step - loss: 0.6040 - accuracy: 0.8318 - val_loss: 0.8640 - val_accuracy: 0.7983\n",
            "Epoch 7/20\n",
            "1743/1743 [==============================] - 18s 10ms/step - loss: 0.5366 - accuracy: 0.8483 - val_loss: 0.8465 - val_accuracy: 0.8100\n",
            "Epoch 8/20\n",
            "1743/1743 [==============================] - 18s 10ms/step - loss: 0.5000 - accuracy: 0.8583 - val_loss: 0.8563 - val_accuracy: 0.8123\n",
            "Epoch 9/20\n",
            "1743/1743 [==============================] - 18s 10ms/step - loss: 0.4572 - accuracy: 0.8688 - val_loss: 0.8416 - val_accuracy: 0.8189\n",
            "Epoch 10/20\n",
            "1743/1743 [==============================] - 18s 10ms/step - loss: 0.4266 - accuracy: 0.8764 - val_loss: 0.8416 - val_accuracy: 0.8270\n",
            "Epoch 11/20\n",
            "1743/1743 [==============================] - 18s 10ms/step - loss: 0.4063 - accuracy: 0.8815 - val_loss: 0.8589 - val_accuracy: 0.8272\n",
            "Epoch 12/20\n",
            "1743/1743 [==============================] - 18s 10ms/step - loss: 0.3820 - accuracy: 0.8870 - val_loss: 0.8545 - val_accuracy: 0.8330\n",
            "Epoch 13/20\n",
            "1743/1743 [==============================] - 18s 10ms/step - loss: 0.3604 - accuracy: 0.8924 - val_loss: 0.8564 - val_accuracy: 0.8358\n",
            "Epoch 14/20\n",
            "1743/1743 [==============================] - 18s 10ms/step - loss: 0.3449 - accuracy: 0.8967 - val_loss: 0.8554 - val_accuracy: 0.8411\n",
            "Epoch 15/20\n",
            "1743/1743 [==============================] - 18s 10ms/step - loss: 0.3332 - accuracy: 0.9005 - val_loss: 0.8582 - val_accuracy: 0.8422\n",
            "Epoch 16/20\n",
            "1743/1743 [==============================] - 18s 10ms/step - loss: 0.3150 - accuracy: 0.9043 - val_loss: 0.8971 - val_accuracy: 0.8396\n",
            "Epoch 17/20\n",
            "1743/1743 [==============================] - 18s 10ms/step - loss: 0.3078 - accuracy: 0.9068 - val_loss: 0.8768 - val_accuracy: 0.8458\n",
            "Epoch 18/20\n",
            "1743/1743 [==============================] - 18s 10ms/step - loss: 0.2938 - accuracy: 0.9099 - val_loss: 0.8860 - val_accuracy: 0.8478\n",
            "Epoch 19/20\n",
            "1743/1743 [==============================] - 18s 10ms/step - loss: 0.2867 - accuracy: 0.9108 - val_loss: 0.9027 - val_accuracy: 0.8492\n",
            "Epoch 20/20\n",
            "1743/1743 [==============================] - 18s 10ms/step - loss: 0.2761 - accuracy: 0.9137 - val_loss: 0.9071 - val_accuracy: 0.8493\n"
          ],
          "name": "stdout"
        },
        {
          "output_type": "execute_result",
          "data": {
            "text/plain": [
              "<keras.callbacks.History at 0x7f4ce5cfc050>"
            ]
          },
          "metadata": {
            "tags": []
          },
          "execution_count": 21
        }
      ]
    },
    {
      "cell_type": "code",
      "metadata": {
        "colab": {
          "base_uri": "https://localhost:8080/"
        },
        "id": "dloUdEEWhPFi",
        "outputId": "fbdeba7e-c72c-4e80-f2bd-6a165545b3cf"
      },
      "source": [
        "print(X_test[3])\n",
        "print(y_test[3])"
      ],
      "execution_count": null,
      "outputs": [
        {
          "output_type": "stream",
          "text": [
            "[ 0  0  0  0  0  0  0  0  0  0  0  0  0  0  0  0  0  0  0  0  0  0  0  0\n",
            "  0  0  0  0  0  0  0  0  0  0  0  0  0  0  0  0  0  0  0  0  0  0  0  0\n",
            "  0  0  0  0  0  0  0  0  0  0  0  0  0  0  0  0  0  0  0  0  0  0  0  0\n",
            "  0  0  0  0  0  0  0  0  0  0  0  0  0  0  0  0  0  0  0  0  0  0  0  0\n",
            "  0  0  0  0  0  0  0  0  0  0  0  0  0  0  0  0  0  0  0  0  0  0  0  0\n",
            "  0  0  0  0  0  0  0  0  0  0  0  0  0  0  0  0  0  0  0  0  0  0  0  0\n",
            "  0  0  0  0  0  0  0  0  0  0  0  0  0  0  0  0  0  0  0  0  0  0  0  0\n",
            "  0  0  0  0  0  0  0  0  0  0  0  0  0  0  0  0  0  0  0  0  0  0  0  0\n",
            "  0  0  0  0  0  0  0  0  0  0  0  0  0  0  0  0  0  0  0  0  0  0  0  0\n",
            "  0  0  0  0  0  0  0  0  0  0  0  0  0  0  0  0  0  0  0  0  0  0  0  0\n",
            "  0  0  0  0  0  0  0  0  0  0  0  0  0  0  0  0  0  0  0  0  0  0  0  0\n",
            "  0  0  0  0  0  0  0  0  0  0  0  0  0  0  0  0  0  0  0  0  0  0  0  0\n",
            "  0  0  0  0  0  0  0  0  0  0  0  0  0  0  0  0  0  0  0  0  0  0  0  0\n",
            "  0  0  0  0  0  0  0  0  0  0  0  0  0  0  0  0  0  0  0  0  0  0  0  0\n",
            "  0  0  0  0  0  0  0  0  0  0  0  0  0  0  0  0  0  0  0  0  0  0  0  0\n",
            "  0  0  0  0  0  0  0  0  0  0  0  0  0  0  0  0  0  0  0  0  0  0  0  0\n",
            "  0  0  0  0  0  0  0  0  0  0  0  0  0  0  0  0  0  0  0  0  0  0  0  0\n",
            "  0  0  0  0  0  0  0  0  0  0  0  0  0  0  0  0  0  0  0  0  0  0  0  0\n",
            "  0  0  0  0  0  0  0  0 18  8  5  5  8  9  8  9  7  6  9  6 13  3  9  1\n",
            " 13 13  1  1  8  8  1  9 15  7  9  4  2 11  5  8  8 15 15 15  1  1 10  8\n",
            " 11 16 12  7  1 11  6 16 16 14  7 12 13  3  6  1  7  9 13  3  1 15 10 15\n",
            " 15  5  6  6 15 16  9 17]\n",
            "[0 0 0 0 0 0 0 0 0 0 0 0 1 0 0 0 0 0 0 0 0 0 0 0 0 0 0 0 0 0 0 0 0 0 0 0 0\n",
            " 0 0 0 0 0 0]\n"
          ],
          "name": "stdout"
        }
      ]
    },
    {
      "cell_type": "code",
      "metadata": {
        "id": "afPPILGM8q3-",
        "colab": {
          "base_uri": "https://localhost:8080/"
        },
        "outputId": "634f56cb-89d8-4f3b-92ab-e3f548a23f42"
      },
      "source": [
        "from sklearn.metrics import confusion_matrix\n",
        "from sklearn.metrics import accuracy_score\n",
        "from sklearn.metrics import classification_report\n",
        "import itertools\n",
        "\n",
        "train_pred = model.predict(X_train)\n",
        "test_pred = model.predict(X_test)\n",
        "print(\"train-acc = \" + str(accuracy_score(np.argmax(y_train, axis=1), np.argmax(train_pred, axis=1))))\n",
        "print(\"test-acc = \" + str(accuracy_score(np.argmax(y_test, axis=1), np.argmax(test_pred, axis=1))))"
      ],
      "execution_count": null,
      "outputs": [
        {
          "output_type": "stream",
          "text": [
            "train-acc = 0.9207591486920195\n",
            "test-acc = 0.8492666834008678\n"
          ],
          "name": "stdout"
        }
      ]
    },
    {
      "cell_type": "code",
      "metadata": {
        "id": "9N1R-Q669m2f",
        "colab": {
          "base_uri": "https://localhost:8080/"
        },
        "outputId": "f0496fff-de2b-4abe-face-8fe3d885a8b9"
      },
      "source": [
        "print(classification_report(np.argmax(y_test, axis=1), np.argmax(test_pred, axis=1), target_names=lb.classes_))"
      ],
      "execution_count": null,
      "outputs": [
        {
          "output_type": "stream",
          "text": [
            "                                         precision    recall  f1-score   support\n",
            "\n",
            "                              APOPTOSIS       0.80      0.77      0.79       280\n",
            "                   BIOSYNTHETIC PROTEIN       0.81      0.77      0.79       198\n",
            "                          CELL ADHESION       0.75      0.76      0.75       593\n",
            "                             CELL CYCLE       0.78      0.72      0.75       502\n",
            "                              CHAPERONE       0.88      0.87      0.88       854\n",
            "                    CONTRACTILE PROTEIN       0.80      0.81      0.81       208\n",
            "                        DE NOVO PROTEIN       0.80      0.82      0.81       335\n",
            "                    DNA BINDING PROTEIN       0.79      0.76      0.78       653\n",
            "                     ELECTRON TRANSPORT       0.73      0.69      0.71       606\n",
            "                    FLUORESCENT PROTEIN       0.97      0.98      0.97       207\n",
            "                        GENE REGULATION       0.87      0.78      0.82       280\n",
            "                                HORMONE       0.95      0.88      0.91       319\n",
            "                              HYDROLASE       0.88      0.86      0.87      9266\n",
            "          HYDROLASE/HYDROLASE INHIBITOR       0.72      0.82      0.77      2262\n",
            "                          IMMUNE SYSTEM       0.89      0.90      0.90      3115\n",
            "                              ISOMERASE       0.93      0.91      0.92      1206\n",
            "                                 LIGASE       0.87      0.82      0.84       987\n",
            "                                  LYASE       0.95      0.91      0.93      2344\n",
            "                       MEMBRANE PROTEIN       0.73      0.75      0.74       973\n",
            "                  METAL BINDING PROTEIN       0.73      0.75      0.74       621\n",
            "                        METAL TRANSPORT       0.89      0.75      0.81       268\n",
            "                          MOTOR PROTEIN       0.72      0.75      0.73       228\n",
            "                         OXIDOREDUCTASE       0.89      0.95      0.92      6752\n",
            "OXIDOREDUCTASE/OXIDOREDUCTASE INHIBITOR       0.77      0.54      0.64       274\n",
            "                         PHOTOSYNTHESIS       0.82      0.85      0.83       620\n",
            "                        PROTEIN BINDING       0.71      0.67      0.69      1002\n",
            "                         PROTEIN FIBRIL       0.85      0.93      0.89       239\n",
            "                      PROTEIN TRANSPORT       0.75      0.70      0.72       522\n",
            "                    RNA BINDING PROTEIN       0.73      0.73      0.73       437\n",
            "                      SIGNALING PROTEIN       0.73      0.70      0.72      1303\n",
            "  STRUCTURAL GENOMICS, UNKNOWN FUNCTION       0.69      0.72      0.71       711\n",
            "                     STRUCTURAL PROTEIN       0.78      0.77      0.77       887\n",
            "                  SUGAR BINDING PROTEIN       0.86      0.92      0.89       676\n",
            "                                  TOXIN       0.88      0.82      0.85       551\n",
            "                          TRANSCRIPTION       0.82      0.77      0.80      1816\n",
            "                            TRANSFERASE       0.88      0.91      0.89      7362\n",
            "      TRANSFERASE/TRANSFERASE INHIBITOR       0.66      0.61      0.63       598\n",
            "                            TRANSLATION       0.82      0.76      0.79       208\n",
            "                      TRANSPORT PROTEIN       0.85      0.81      0.83      1672\n",
            "                       UNKNOWN FUNCTION       0.75      0.75      0.75       551\n",
            "                          VIRAL PROTEIN       0.86      0.88      0.87      1678\n",
            "            VIRAL PROTEIN/IMMUNE SYSTEM       0.78      0.55      0.64       234\n",
            "                                  VIRUS       0.96      0.97      0.96      1376\n",
            "\n",
            "                               accuracy                           0.85     55774\n",
            "                              macro avg       0.82      0.79      0.80     55774\n",
            "                           weighted avg       0.85      0.85      0.85     55774\n",
            "\n"
          ],
          "name": "stdout"
        }
      ]
    },
    {
      "cell_type": "code",
      "metadata": {
        "id": "Ypug15sSAD29",
        "colab": {
          "base_uri": "https://localhost:8080/"
        },
        "outputId": "81e6d33d-baff-433b-d83b-bdfd37703d34"
      },
      "source": [
        "import tensorflow as tf\n",
        "model_json = model.to_json()\n",
        "with open('model.json','w') as json_file:\n",
        "  json_file.write(model_json)\n",
        "model.save('model.h5',)\n",
        "print('saved model to disk')"
      ],
      "execution_count": null,
      "outputs": [
        {
          "output_type": "stream",
          "text": [
            "saved model to disk\n"
          ],
          "name": "stdout"
        }
      ]
    },
    {
      "cell_type": "code",
      "metadata": {
        "id": "QxJupitgJUob"
      },
      "source": [
        "def predict_class(seqs):\n",
        "\n",
        "  max_length = 512 \n",
        "  \n",
        "  # initiate Tokenizer \n",
        "  tokenizer = Tokenizer(char_level=True) #tokenize in character level \n",
        "  tokenizer.fit_on_texts(seqs)\n",
        "\n",
        "\n",
        "  X = tokenizer.texts_to_sequences([seqs])\n",
        "  X = sequence.pad_sequences(X, maxlen=max_length)\n",
        "\n",
        "  prediction = model.predict(X)\n",
        "  prediction = lb.inverse_transform(prediction)\n",
        "  print(prediction)"
      ],
      "execution_count": null,
      "outputs": []
    },
    {
      "cell_type": "code",
      "metadata": {
        "id": "XDFuduuNJ-iC",
        "colab": {
          "base_uri": "https://localhost:8080/"
        },
        "outputId": "7eaa2030-1a26-467b-b450-2136d317aed4"
      },
      "source": [
        "predict_class('TYTTRQIGAKNTLEYKVYIEKDGKPVSAFHDIPLYADKENNIFNMVVEIPRWTNAKLEITKEETLNPIIQDTKKGKLRFVRNCFPHHGYIHNYGAFPQTWEDPNVSHPETKAVGDNEPIDVLEIGETIAYTGQVKQVKALGIMALLDEGETDWKVIAIDINDPLAPKLNDIEDVEKYFPGLLRATNEWFRIYKIPDGKPENQFAFSGEAKNKKYALDIIKETHDSWKQLIAGKSSDSKGIDLTNVTLPDTPTYSKAASDAIPPASLKADAPIDKSIDKWFFISGSV')"
      ],
      "execution_count": null,
      "outputs": [
        {
          "output_type": "stream",
          "text": [
            "['OXIDOREDUCTASE']\n"
          ],
          "name": "stdout"
        }
      ]
    }
  ]
}